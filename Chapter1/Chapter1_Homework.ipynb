{
 "cells": [
  {
   "cell_type": "markdown",
   "id": "cf6057a5",
   "metadata": {},
   "source": [
    "Chapter 1 Homework Assignment\n",
    "\n",
    "Q #1: Explore the JupyterLab interface and look at some of the shortcuts that are available.\n",
    "A #1: Done...\n",
    "\n",
    "Q #2: Is all data normally distributed? Explain why or why not.\n",
    "A #2: Not all data is normally distributed. While it might seeem to perfectly fit data collected from many natural phenomena, the reality is it only seems so because of errors in data and, as humans, we tend to like to fit everything into a normal distrinution model for easy analysis and drawing conclusions. \n",
    "\n",
    "Q #3: When would it make more sense to use the median instead of the mean for the measure of center?\n",
    "A #3: If the data set contains many outliers, it When would be more accurate to use to use the median instead of the mean as a measure of center.\n",
    "\n",
    "Q #4: Run the code in the first cell of the exercises.ipynb notebook. It will give you a list of 100 values to work with for the rest of the exercises in this chapter. Be sure to treat these values as a sample of the population./n\n",
    "A #4: "
   ]
  },
  {
   "cell_type": "code",
   "execution_count": 2,
   "id": "78313bd1",
   "metadata": {},
   "outputs": [
    {
     "name": "stdout",
     "output_type": "stream",
     "text": [
      "[844000.0, 758000.0, 421000.0, 259000.0, 511000.0, 405000.0, 784000.0, 303000.0, 477000.0, 583000.0, 908000.0, 505000.0, 282000.0, 756000.0, 618000.0, 251000.0, 910000.0, 983000.0, 810000.0, 902000.0, 310000.0, 730000.0, 899000.0, 684000.0, 472000.0, 101000.0, 434000.0, 611000.0, 913000.0, 967000.0, 477000.0, 865000.0, 260000.0, 805000.0, 549000.0, 14000.0, 720000.0, 399000.0, 825000.0, 668000.0, 1000.0, 494000.0, 868000.0, 244000.0, 325000.0, 870000.0, 191000.0, 568000.0, 239000.0, 968000.0, 803000.0, 448000.0, 80000.0, 320000.0, 508000.0, 933000.0, 109000.0, 551000.0, 707000.0, 547000.0, 814000.0, 540000.0, 964000.0, 603000.0, 588000.0, 445000.0, 596000.0, 385000.0, 576000.0, 290000.0, 189000.0, 187000.0, 613000.0, 657000.0, 477000.0, 90000.0, 758000.0, 877000.0, 923000.0, 842000.0, 898000.0, 923000.0, 541000.0, 391000.0, 705000.0, 276000.0, 812000.0, 849000.0, 895000.0, 590000.0, 950000.0, 580000.0, 451000.0, 660000.0, 996000.0, 917000.0, 793000.0, 82000.0, 613000.0, 486000.0]\n"
     ]
    }
   ],
   "source": [
    "import random\n",
    "random.seed(0)\n",
    "salaries = [round(random.random() * 1000000, -3) for _ in range(100)]\n",
    "print(salaries)"
   ]
  },
  {
   "cell_type": "code",
   "execution_count": 4,
   "id": "c0b4f20b",
   "metadata": {},
   "outputs": [
    {
     "name": "stdout",
     "output_type": "stream",
     "text": [
      "Mean =  585690.0\n"
     ]
    }
   ],
   "source": [
    "x = 0\n",
    "y = len(salaries)\n",
    "mean = 0\n",
    "for i in salaries :\n",
    "    x = x + i\n",
    "\n",
    "mean = x/y\n",
    "print(\"Mean = \", mean)"
   ]
  },
  {
   "cell_type": "code",
   "execution_count": 5,
   "id": "a441c99d",
   "metadata": {},
   "outputs": [
    {
     "name": "stdout",
     "output_type": "stream",
     "text": [
      "Median =  589000.0\n"
     ]
    }
   ],
   "source": [
    "import math\n",
    "salaries.sort()\n",
    "midpoint = (len(salaries) + 1)/2 - 1\n",
    "if len(salaries) % 2:\n",
    "        Median = salaries[int(midpoint)]\n",
    "else:\n",
    "        Median = (salaries[math.floor(midpoint)] + salaries[math.ceil(midpoint)]) / 2\n",
    "print(\"Median = \", Median)"
   ]
  },
  {
   "cell_type": "code",
   "execution_count": 6,
   "id": "025384c7",
   "metadata": {},
   "outputs": [
    {
     "name": "stdout",
     "output_type": "stream",
     "text": [
      "Mode =  477000.0\n"
     ]
    }
   ],
   "source": [
    "from collections import Counter\n",
    "print(\"Mode = \", Counter(salaries).most_common(1)[0][0])"
   ]
  },
  {
   "cell_type": "code",
   "execution_count": 7,
   "id": "4fa4a2d5",
   "metadata": {},
   "outputs": [
    {
     "name": "stdout",
     "output_type": "stream",
     "text": [
      "Sample Variance =  70664054444.44444\n"
     ]
    }
   ],
   "source": [
    "import numpy as np\n",
    "Sample_Variance = np.sum([(x - np.sum(salaries) / len(salaries))**2 for x in salaries]) / (len(salaries) - 1)\n",
    "print(\"Sample Variance = \", Sample_Variance)"
   ]
  },
  {
   "cell_type": "code",
   "execution_count": 8,
   "id": "a59610ae",
   "metadata": {},
   "outputs": [
    {
     "name": "stdout",
     "output_type": "stream",
     "text": [
      "Standard Deviation =  265827.11382484\n"
     ]
    }
   ],
   "source": [
    "import math\n",
    "import numpy as np\n",
    "stdv = math.sqrt(np.sum([(x - np.sum(salaries) / len(salaries))**2 for x in salaries]) / (len(salaries) - 1)) \n",
    "print(\"Standard Deviation = \", stdv)"
   ]
  },
  {
   "cell_type": "raw",
   "id": "f2b4e5af",
   "metadata": {},
   "source": [
    "Q #6: Using the data from exercise 4, calculate the following statistics using the functions in the statistics module where appropriate:\n",
    "A #6:\n",
    "a) Range:"
   ]
  },
  {
   "cell_type": "code",
   "execution_count": 9,
   "id": "44309ef9",
   "metadata": {},
   "outputs": [
    {
     "name": "stdout",
     "output_type": "stream",
     "text": [
      "Range =  995000.0\n"
     ]
    }
   ],
   "source": [
    "Range = max(salaries) - min(salaries)\n",
    "print(\"Range = \", Range)"
   ]
  },
  {
   "cell_type": "markdown",
   "id": "48c0008b",
   "metadata": {},
   "source": [
    "b) Coefficient of Variation:"
   ]
  },
  {
   "cell_type": "code",
   "execution_count": 10,
   "id": "5eac380a",
   "metadata": {},
   "outputs": [
    {
     "name": "stdout",
     "output_type": "stream",
     "text": [
      "Coefficient of Variation =  0.45386998894439035\n"
     ]
    }
   ],
   "source": [
    "from statistics import mean, stdev\n",
    "print(\"Coefficient of Variation = \", stdev(salaries) / mean(salaries))"
   ]
  },
  {
   "cell_type": "markdown",
   "id": "f5c592b3",
   "metadata": {},
   "source": [
    "c) Interquartile Range"
   ]
  },
  {
   "cell_type": "code",
   "execution_count": 12,
   "id": "0e6b1ed4",
   "metadata": {},
   "outputs": [
    {
     "name": "stdout",
     "output_type": "stream",
     "text": [
      "Interquartile Range (IQR) =  417500.0\n"
     ]
    }
   ],
   "source": [
    "import math\n",
    "# function to calculate quantile\n",
    "def Quantile(x, percentage):\n",
    "    index = (len(x) + 1) * percentage - 1\n",
    "    if len(x) % 2:\n",
    "        return x[int(index)]\n",
    "    else:\n",
    "        return (x[math.floor(index)] + x[math.ceil(index)]) / 2\n",
    "    \n",
    "# The interquartile range is the distance between the 3rd and 1st quartiles\n",
    "\n",
    "IQR = Quantile(salaries, 0.75) - Quantile(salaries, 0.25)\n",
    "print(\"Interquartile Range (IQR) = \", IQR)"
   ]
  },
  {
   "cell_type": "markdown",
   "id": "5f0c7d98",
   "metadata": {},
   "source": [
    "d) Quartile Coefficient of Dispersion"
   ]
  },
  {
   "cell_type": "code",
   "execution_count": 14,
   "id": "77ca110d",
   "metadata": {},
   "outputs": [
    {
     "name": "stdout",
     "output_type": "stream",
     "text": [
      "Quartile Coefficient of Dispersion (QCD) =  0.3417928776094965\n"
     ]
    }
   ],
   "source": [
    "QCD = IQR /(Quantile(salaries, 0.75) + Quantile(salaries, 0.25))\n",
    "print(\"Quartile Coefficient of Dispersion (QCD) = \", QCD)"
   ]
  },
  {
   "cell_type": "markdown",
   "id": "50ed7d40",
   "metadata": {},
   "source": [
    "Q #7: Scale the data created in Q #4 using the following strategies:\n",
    "a) Min-max scaling (normalizing)\n",
    "b) Standarizing\n",
    "\n",
    "A #7: \n",
    "a) Min-max scaling (normalizing):"
   ]
  },
  {
   "cell_type": "code",
   "execution_count": 29,
   "id": "0fb95d3b",
   "metadata": {},
   "outputs": [
    {
     "name": "stdout",
     "output_type": "stream",
     "text": [
      "[0.0, 0.01306532663316583, 0.07939698492462312, 0.0814070351758794, 0.08944723618090453, 0.10050251256281408, 0.10854271356783919, 0.18693467336683417, 0.18894472361809045, 0.19095477386934673, 0.23919597989949748, 0.2442211055276382, 0.25125628140703515, 0.2592964824120603, 0.26030150753768844, 0.27638190954773867, 0.28241206030150756, 0.2904522613065327, 0.3035175879396985, 0.31055276381909547, 0.32060301507537686, 0.3256281407035176, 0.385929648241206, 0.39195979899497485, 0.4, 0.40603015075376886, 0.4221105527638191, 0.43517587939698493, 0.4462311557788945, 0.4492462311557789, 0.45226130653266333, 0.4733668341708543, 0.47839195979899496, 0.47839195979899496, 0.47839195979899496, 0.48743718592964824, 0.49547738693467336, 0.5065326633165829, 0.5095477386934674, 0.5125628140703518, 0.5417085427135678, 0.542713567839196, 0.5487437185929648, 0.5507537688442211, 0.5527638190954773, 0.5698492462311557, 0.5778894472361809, 0.5819095477386935, 0.5849246231155779, 0.5899497487437186, 0.5919597989949749, 0.5979899497487438, 0.6050251256281407, 0.6130653266331658, 0.6150753768844222, 0.6150753768844222, 0.6201005025125628, 0.6592964824120603, 0.6623115577889447, 0.6703517587939698, 0.6864321608040201, 0.7075376884422111, 0.7095477386934673, 0.7226130653266332, 0.7326633165829146, 0.7587939698492462, 0.7608040201005025, 0.7608040201005025, 0.7869346733668342, 0.7959798994974875, 0.8060301507537688, 0.8080402010050252, 0.8130653266331658, 0.8150753768844221, 0.8170854271356784, 0.828140703517588, 0.8452261306532663, 0.8472361809045226, 0.8522613065326633, 0.8683417085427135, 0.871356783919598, 0.8733668341708543, 0.8804020100502512, 0.8984924623115578, 0.9015075376884422, 0.9025125628140703, 0.9055276381909547, 0.9115577889447236, 0.91356783919598, 0.9165829145728643, 0.9206030150753769, 0.9266331658291457, 0.9266331658291457, 0.9366834170854271, 0.9537688442211055, 0.9678391959798995, 0.9708542713567839, 0.9718592964824121, 0.9869346733668342, 1.0]\n"
     ]
    }
   ],
   "source": [
    "min_salary = min(salaries)\n",
    "max_salary = max(salaries)\n",
    "\n",
    "range_salary = max_salary - min_salary\n",
    "min_max_scaled_salaries = []\n",
    "#print(range_salary)\n",
    "for s in salaries:\n",
    "    min_max_scaled_salaries.append((s - min(salaries))/range_salary)\n",
    "print(min_max_scaled_salaries)\n",
    "\n"
   ]
  },
  {
   "cell_type": "markdown",
   "id": "21094720",
   "metadata": {},
   "source": [
    "b) Standarizing:"
   ]
  },
  {
   "cell_type": "code",
   "execution_count": 32,
   "id": "d238c031",
   "metadata": {},
   "outputs": [
    {
     "name": "stdout",
     "output_type": "stream",
     "text": [
      "[-2.199512275430514, -2.150608309943509, -1.9023266390094862, -1.8948029520114855, -1.8647082040194827, -1.8233279255304788, -1.7932331775384762, -1.4998093846164489, -1.4922856976184482, -1.4847620106204475, -1.304193522668431, -1.285384305173429, -1.2590514006804265, -1.228956652688424, -1.2251948091894236, -1.165005313205418, -1.142434252211416, -1.112339504219413, -1.0634355387324086, -1.037102634239406, -0.9994841992494026, -0.9806749817544008, -0.7549643718143799, -0.7323933108203778, -0.7022985628283751, -0.6797275018343729, -0.6195380058503674, -0.5706340403633628, -0.529253761874359, -0.517968231377358, -0.5066827008803569, -0.4276839874013496, -0.40887476990634786, -0.40887476990634786, -0.40887476990634786, -0.37501817841534474, -0.34492343042334195, -0.3035431519343381, -0.2922576214373371, -0.28097209094033604, -0.17187862946932592, -0.16811678597032556, -0.14554572497632348, -0.1380220379783228, -0.1304983509803221, -0.06654701149731616, -0.03645226350531338, -0.02140488950931198, -0.010119359012310937, 0.008689858482690806, 0.016213545480691503, 0.038784606474693596, 0.06511751096769604, 0.09521225895969881, 0.10273594595769951, 0.10273594595769951, 0.12154516345270126, 0.26825705991371485, 0.2795425904107159, 0.3096373384027187, 0.36982683438672426, 0.4488255478657316, 0.4563492348637323, 0.5052532003507368, 0.5428716353407403, 0.6406795663147493, 0.6482032533127501, 0.6482032533127501, 0.7460111842867592, 0.7798677757777622, 0.8174862107677657, 0.8250098977657664, 0.8438191152607681, 0.8513428022587689, 0.8588664892567696, 0.9002467677457734, 0.9641981072287793, 0.9717217942267801, 0.9905310117217818, 1.0507205077057873, 1.0620060382027885, 1.0695297252007891, 1.0958626296937914, 1.1635758126757978, 1.1748613431727988, 1.178623186671799, 1.1899087171688003, 1.2124797781628023, 1.220003465160803, 1.2312889956578041, 1.2463363696538055, 1.2689074306478076, 1.2689074306478076, 1.3065258656378111, 1.370477205120817, 1.4231430141068218, 1.434428544603823, 1.4381903881028233, 1.4946180405878284, 1.543522006074833]\n"
     ]
    }
   ],
   "source": [
    "from statistics import mean, stdev\n",
    "\n",
    "mean_salary = mean(salaries)\n",
    "stdev_salaries = stdev(salaries)\n",
    "standarizing_scaled_salaries = []\n",
    "\n",
    "for s in salaries:\n",
    "    standarizing_scaled_salaries.append((s - mean_salary) / stdev_salaries)\n",
    "    \n",
    "print(standarizing_scaled_salaries)"
   ]
  },
  {
   "cell_type": "markdown",
   "id": "065d6f1c",
   "metadata": {},
   "source": [
    "Q #8: Using the scaled data from exercise 7, calculate the following:\n",
    "a) The covariance between the standardized and normalized data\n",
    "b) The Pearson correlation coefficient between the standardized and normalized data (this is actually 1, but due to rounding along the way, the result will be slightly less)\n",
    "\n",
    "A #8: \n",
    "a) Covariance between the standardized and normalized data :"
   ]
  },
  {
   "cell_type": "code",
   "execution_count": 34,
   "id": "b4b31849",
   "metadata": {},
   "outputs": [
    {
     "name": "stdout",
     "output_type": "stream",
     "text": [
      "[[0.07137603 0.26716293]\n",
      " [0.26716293 1.        ]]\n"
     ]
    }
   ],
   "source": [
    "from statistics import mean\n",
    "covariance = np.cov(min_max_scaled_salaries, standarizing_scaled_salaries)\n",
    "print(covariance)\n"
   ]
  },
  {
   "cell_type": "code",
   "execution_count": 41,
   "id": "3a0ecc7e",
   "metadata": {},
   "outputs": [
    {
     "name": "stdout",
     "output_type": "stream",
     "text": [
      "The covariance between the standarzied & normalized data is :  0.26449129918250414\n"
     ]
    }
   ],
   "source": [
    "cov = []\n",
    "for x, y in zip(min_max_scaled_salaries, standarizing_scaled_salaries):\n",
    "    cov.append((x - mean(min_max_scaled_salaries)) * (y - mean(standarizing_scaled_salaries)))\n",
    "\n",
    "mean_cov = mean(cov)\n",
    "print(\"The covariance between the standarzied & normalized data is : \", mean_cov)    \n",
    "    "
   ]
  },
  {
   "cell_type": "markdown",
   "id": "f3eba149",
   "metadata": {},
   "source": [
    "b) Pearson correlation coefficient between the standardized and normalized data"
   ]
  },
  {
   "cell_type": "code",
   "execution_count": 43,
   "id": "df4b698a",
   "metadata": {},
   "outputs": [
    {
     "name": "stdout",
     "output_type": "stream",
     "text": [
      "The Pearson correlation coefficient between the standardized and normalized data is:  0.9900000000000001\n"
     ]
    }
   ],
   "source": [
    "from statistics import stdev\n",
    "\n",
    "coef = mean_cov / (stdev(min_max_scaled_salaries) * stdev(standarizing_scaled_salaries))\n",
    "print(\"The Pearson correlation coefficient between the standardized and normalized data is: \", coef)"
   ]
  },
  {
   "cell_type": "code",
   "execution_count": null,
   "id": "0ba648d0",
   "metadata": {},
   "outputs": [],
   "source": []
  }
 ],
 "metadata": {
  "kernelspec": {
   "display_name": "Python 3",
   "language": "python",
   "name": "python3"
  },
  "language_info": {
   "codemirror_mode": {
    "name": "ipython",
    "version": 3
   },
   "file_extension": ".py",
   "mimetype": "text/x-python",
   "name": "python",
   "nbconvert_exporter": "python",
   "pygments_lexer": "ipython3",
   "version": "3.8.10"
  }
 },
 "nbformat": 4,
 "nbformat_minor": 5
}
