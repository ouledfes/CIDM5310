{
 "cells": [
  {
   "cell_type": "markdown",
   "id": "30804123",
   "metadata": {},
   "source": [
    "Importing Data..."
   ]
  },
  {
   "cell_type": "code",
   "execution_count": 4,
   "id": "90539c69",
   "metadata": {},
   "outputs": [],
   "source": [
    "import pandas as pd\n",
    "\n",
    "df = pd.read_csv(\"./data/parsed.csv\")\n"
   ]
  },
  {
   "cell_type": "raw",
   "id": "992b3272",
   "metadata": {},
   "source": [
    "Q #1: Find the 95th percentile of earthquake magnitude in Japan using the mb magnitude type."
   ]
  },
  {
   "cell_type": "code",
   "execution_count": 46,
   "id": "966c10f7",
   "metadata": {},
   "outputs": [
    {
     "name": "stdout",
     "output_type": "stream",
     "text": [
      "A #1: The the 95th percentile of earthquake magnitude in Japan using the mb magnitude type =  4.9\n"
     ]
    }
   ],
   "source": [
    "# filter the dataframe for tuples where parsed_place = Japan & magnitude type = mb\n",
    "dff1 = df[(df.parsed_place == \"Japan\") & (df.magType == \"mb\")]\n",
    "print(\"A #1: The the 95th percentile of earthquake magnitude in Japan using the mb magnitude type = \",  dff1.mag.quantile(0.95))\n"
   ]
  },
  {
   "cell_type": "raw",
   "id": "060c7f73",
   "metadata": {},
   "source": [
    "Q #2: Find the percentage of earthquakes in Indonesia that were coupled with tsunamis."
   ]
  },
  {
   "cell_type": "code",
   "execution_count": 47,
   "id": "63024db5",
   "metadata": {},
   "outputs": [
    {
     "name": "stdout",
     "output_type": "stream",
     "text": [
      "A #2: Percentage of earthquakes that took place in Indonesia that were coupled with a Tsunami =  23.13%\n"
     ]
    }
   ],
   "source": [
    "\n",
    "dff2 = df[(df.parsed_place == 'Indonesia')].tsunami.value_counts(normalize=True)#& (df.tsunami == 1)]\n",
    "\n",
    "print(\"A #2: Percentage of earthquakes that took place in Indonesia that were coupled with a Tsunami = \", f\"{dff2.iloc[1,]:.2%}\")"
   ]
  },
  {
   "cell_type": "markdown",
   "id": "b5c2f1fd",
   "metadata": {},
   "source": [
    "Q #3 3. Calculate summary statistics for earthquakes in Nevada."
   ]
  },
  {
   "cell_type": "code",
   "execution_count": 52,
   "id": "b57ffebd",
   "metadata": {},
   "outputs": [
    {
     "name": "stdout",
     "output_type": "stream",
     "text": [
      "A #3: Summary Statistics for Nevada : \n",
      "\n",
      "              cdi        dmin       felt         gap         mag   mmi  \\\n",
      "count  15.000000  681.000000  15.000000  681.000000  681.000000  1.00   \n",
      "mean    2.440000    0.166199   2.400000  153.668120    0.500073  2.84   \n",
      "std     0.501142    0.166228   4.626013   68.735302    0.696710   NaN   \n",
      "min     2.000000    0.001000   1.000000   29.140000   -0.500000  2.84   \n",
      "25%     2.000000    0.053000   1.000000   97.380000   -0.100000  2.84   \n",
      "50%     2.200000    0.112000   1.000000  149.140000    0.400000  2.84   \n",
      "75%     2.900000    0.233000   1.000000  199.720000    0.900000  2.84   \n",
      "max     3.300000    1.414000  19.000000  355.910000    2.900000  2.84   \n",
      "\n",
      "              nst         rms         sig          time  tsunami     tz  \\\n",
      "count  681.000000  681.000000  681.000000  6.810000e+02    681.0  681.0   \n",
      "mean    12.618209    0.151986   10.970631  1.538314e+12      0.0 -480.0   \n",
      "std      9.866963    0.084662   19.607150  5.965637e+08      0.0    0.0   \n",
      "min      3.000000    0.000500    0.000000  1.537247e+12      0.0 -480.0   \n",
      "25%      6.000000    0.106900    0.000000  1.537854e+12      0.0 -480.0   \n",
      "50%     10.000000    0.146300    2.000000  1.538280e+12      0.0 -480.0   \n",
      "75%     16.000000    0.187100   12.000000  1.538821e+12      0.0 -480.0   \n",
      "max     61.000000    0.863400  129.000000  1.539461e+12      0.0 -480.0   \n",
      "\n",
      "            updated  \n",
      "count  6.810000e+02  \n",
      "mean   1.538402e+12  \n",
      "std    6.010951e+08  \n",
      "min    1.537307e+12  \n",
      "25%    1.537928e+12  \n",
      "50%    1.538428e+12  \n",
      "75%    1.538878e+12  \n",
      "max    1.539483e+12  \n"
     ]
    }
   ],
   "source": [
    "# filter the dataframe for records where parsed_place = Nevada\n",
    "\n",
    "dff3 = df[df.parsed_place == \"Nevada\"]\n",
    "print(\"A #3: Summary Statistics for Nevada : \\n\\n\", dff3.describe())"
   ]
  },
  {
   "cell_type": "markdown",
   "id": "81f94e1b",
   "metadata": {},
   "source": [
    "Q #4: Add a column indicating whether the earthquake happened in a country or US state that is on the Ring of Fire. Use Alaska, Antarctica (look for Antarctic), Bolivia, California, Canada, Chile, Costa Rica, Ecuador, Fiji, Guatemala, Indonesia, Japan, Kermadec Islands, Mexico (be careful not to select New Mexico), New Zealand, Peru, Philippines, Russia, Taiwan, Tonga, and Washington.\n",
    "\n",
    "A #4:"
   ]
  },
  {
   "cell_type": "code",
   "execution_count": 59,
   "id": "0e063dd9",
   "metadata": {},
   "outputs": [],
   "source": [
    "\n",
    "df[\"ring_of_fire\"] = df.parsed_place.isin(['Alaska', 'Antarctic', 'Bolivia', 'California', 'Canada', 'Chile', 'Costa Rica', 'Ecuador', 'Fiji', 'Guatemala', 'Indonesia', 'Japan', 'Kermadec Islands', 'Mexico', \n",
    "'New Zealand', 'Peru', 'Philippines', 'Russia', 'Taiwan', 'Tonga', 'Washington'])\n",
    "\n"
   ]
  },
  {
   "cell_type": "markdown",
   "id": "4835f5f8",
   "metadata": {},
   "source": [
    "Q #5: Calculate the number of earthquakes in the Ring of Fire locations and the number outside of them."
   ]
  },
  {
   "cell_type": "code",
   "execution_count": 71,
   "id": "5e9bcad3",
   "metadata": {},
   "outputs": [
    {
     "name": "stdout",
     "output_type": "stream",
     "text": [
      "A #5: \n",
      "\n",
      "Number of earthquakes in the Ring of Fire locations =  7184\n",
      "Number of earthquakes outside of the Ring of Fire locations =  2148\n",
      "True\n"
     ]
    }
   ],
   "source": [
    "num_ringOfFire_earthquakes = len(df[df[\"ring_of_fire\"] == True])\n",
    "print(\"A #5: \\n\")\n",
    "print(\"Number of earthquakes in the Ring of Fire locations = \", num_ringOfFire_earthquakes)\n",
    "print(\"Number of earthquakes outside of the Ring of Fire locations = \", len(df) - num_ringOfFire_earthquakes)\n",
    "print((7184 + 2148) == len(df))\n"
   ]
  },
  {
   "cell_type": "markdown",
   "id": "1a1354a6",
   "metadata": {},
   "source": [
    "Q #6: Find the tsunami count along the Ring of Fire."
   ]
  },
  {
   "cell_type": "code",
   "execution_count": 87,
   "id": "5cbade5d",
   "metadata": {},
   "outputs": [
    {
     "name": "stdout",
     "output_type": "stream",
     "text": [
      "A #6: \n",
      "\n",
      "The number of Tsunamis along the Ring of Fire is =  45\n"
     ]
    }
   ],
   "source": [
    "ringOfFire_tsunamis = df.loc[df.ring_of_fire, 'tsunami'].sum()\n",
    "print(\"A #6: \\n\")\n",
    "print(\"The number of Tsunamis along the Ring of Fire is = \", ringOfFire_tsunamis)\n"
   ]
  },
  {
   "cell_type": "code",
   "execution_count": null,
   "id": "15d095c3",
   "metadata": {},
   "outputs": [],
   "source": []
  }
 ],
 "metadata": {
  "kernelspec": {
   "display_name": "Python 3",
   "language": "python",
   "name": "python3"
  },
  "language_info": {
   "codemirror_mode": {
    "name": "ipython",
    "version": 3
   },
   "file_extension": ".py",
   "mimetype": "text/x-python",
   "name": "python",
   "nbconvert_exporter": "python",
   "pygments_lexer": "ipython3",
   "version": "3.8.10"
  }
 },
 "nbformat": 4,
 "nbformat_minor": 5
}
